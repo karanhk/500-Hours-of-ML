{
 "cells": [
  {
   "cell_type": "markdown",
   "id": "194a8550",
   "metadata": {},
   "source": [
    "<font color='red'><h1> Workbook for class and object </h1></font>"
   ]
  },
  {
   "cell_type": "markdown",
   "id": "8b83fc11",
   "metadata": {},
   "source": [
    "## Table of contents\n",
    "\n",
    "1. Introduction\n",
    "2. init method\n",
    "3. str method\n",
    "4. self keyword\n",
    "5. Attribute"
   ]
  },
  {
   "cell_type": "markdown",
   "id": "73b8a810",
   "metadata": {},
   "source": [
    "## 1. Introduction"
   ]
  },
  {
   "cell_type": "markdown",
   "id": "b912b35f",
   "metadata": {},
   "source": [
    "In python class and object are same as other languages. A class is defined by 'class' keyword. Variables are the attributes of class and they are called by dot (.) and all methods of class must have 'self' keyword as their first argument. See the code below. "
   ]
  },
  {
   "cell_type": "code",
   "execution_count": 11,
   "id": "81db3637",
   "metadata": {},
   "outputs": [],
   "source": [
    "class Person :\n",
    "    name = 'Karan'\n",
    "    age = 20\n",
    "    \n",
    "    def printInfo(self):\n",
    "        print('Name is :',self.name,'\\nAge is :',self.age)"
   ]
  },
  {
   "cell_type": "markdown",
   "id": "e0e95a4e",
   "metadata": {},
   "source": [
    "Object to this class can be created by the code below."
   ]
  },
  {
   "cell_type": "code",
   "execution_count": 12,
   "id": "6a69a2e6",
   "metadata": {},
   "outputs": [
    {
     "name": "stdout",
     "output_type": "stream",
     "text": [
      "Name is : Karan \n",
      "Age is : 20\n"
     ]
    }
   ],
   "source": [
    "obj1 = Person()\n",
    "obj1.printInfo()"
   ]
  },
  {
   "cell_type": "markdown",
   "id": "2216bdf6",
   "metadata": {},
   "source": [
    "## 2. init method"
   ]
  },
  {
   "cell_type": "markdown",
   "id": "5b8ce513",
   "metadata": {},
   "source": [
    "init method is like constructor. It is used to define the attributes of class. See the code below."
   ]
  },
  {
   "cell_type": "code",
   "execution_count": 14,
   "id": "292ac694",
   "metadata": {},
   "outputs": [],
   "source": [
    "class Person :\n",
    "    name = 'Karan'\n",
    "    age = 20\n",
    "    \n",
    "    def __init__(self, name, age):\n",
    "        self.name = name\n",
    "        self.age = age\n",
    "        \n",
    "    def printInfo(self):\n",
    "        print('Name :',self.name,'\\nAge :',self.age)"
   ]
  },
  {
   "cell_type": "code",
   "execution_count": 15,
   "id": "f27c39d4",
   "metadata": {},
   "outputs": [
    {
     "name": "stdout",
     "output_type": "stream",
     "text": [
      "Name : Yashasvi \n",
      "Age : 22\n"
     ]
    }
   ],
   "source": [
    "obj1 = Person('Yashasvi',22)\n",
    "obj1.printInfo()"
   ]
  },
  {
   "cell_type": "markdown",
   "id": "08ff6fec",
   "metadata": {},
   "source": [
    "## 3. str method"
   ]
  },
  {
   "cell_type": "markdown",
   "id": "cb383d40",
   "metadata": {},
   "source": [
    "str method is used to define the object as string. i.e., it returns the string which is to be printed when we print the object. See the code below."
   ]
  },
  {
   "cell_type": "code",
   "execution_count": 16,
   "id": "0a87eba8",
   "metadata": {},
   "outputs": [],
   "source": [
    "class Person :\n",
    "    name = 'Karan'\n",
    "    age = 20\n",
    "    \n",
    "    def __init__(self, name, age):\n",
    "        self.name = name\n",
    "        self.age = age\n",
    "        \n",
    "    def __str__(self):\n",
    "        return 'Name is ' + self.name + '\\nAge is ' + str(self.age)\n",
    "        \n",
    "    def printInfo(self):\n",
    "        print('Name :',self.name,'\\nAge :',self.age)"
   ]
  },
  {
   "cell_type": "code",
   "execution_count": 17,
   "id": "704b9a88",
   "metadata": {},
   "outputs": [
    {
     "name": "stdout",
     "output_type": "stream",
     "text": [
      "Name is Krunal\n",
      "Age is 21\n"
     ]
    }
   ],
   "source": [
    "obj1 = Person('Krunal', 21)\n",
    "print(obj1)"
   ]
  },
  {
   "cell_type": "markdown",
   "id": "ec47ff77",
   "metadata": {},
   "source": [
    "## 4. self keyword"
   ]
  },
  {
   "cell_type": "markdown",
   "id": "baaa136c",
   "metadata": {},
   "source": [
    "self keyword is like 'this' keyword in Java. It is passed as first argument in method inside the class. When we call method by object.method, the python interpreter converts it into class.method(object). That's why self is passed as first argument inside the class."
   ]
  },
  {
   "cell_type": "markdown",
   "id": "d95e5826",
   "metadata": {},
   "source": [
    "## 5. Attributes"
   ]
  },
  {
   "cell_type": "markdown",
   "id": "cd46099f",
   "metadata": {},
   "source": [
    "Attributes are public by default. There are two types of variables, instance and class. Class variables are defined inside the class, instance variables are defined inside the method. See the code below."
   ]
  },
  {
   "cell_type": "code",
   "execution_count": 18,
   "id": "0b1a5808",
   "metadata": {},
   "outputs": [],
   "source": [
    "class Person :\n",
    "    college = 'ICD'\n",
    "    \n",
    "    def __init__(self, name, age):\n",
    "        self.name = name\n",
    "        self.age = age\n",
    "        \n",
    "    def printInfo(self):\n",
    "        print('Name :',self.name,'\\nAge :',self.age, '\\nCollege :', self.college)"
   ]
  },
  {
   "cell_type": "code",
   "execution_count": 19,
   "id": "2b3698d3",
   "metadata": {},
   "outputs": [
    {
     "name": "stdout",
     "output_type": "stream",
     "text": [
      "Name : Karan \n",
      "Age : 20 \n",
      "College : ICD\n"
     ]
    }
   ],
   "source": [
    "obj1 = Person('Karan',20)\n",
    "obj1.printInfo()"
   ]
  },
  {
   "cell_type": "code",
   "execution_count": 20,
   "id": "42637dd3",
   "metadata": {},
   "outputs": [
    {
     "name": "stdout",
     "output_type": "stream",
     "text": [
      "Name : Aditya \n",
      "Age : 21 \n",
      "College : ICD\n"
     ]
    }
   ],
   "source": [
    "obj2 = Person('Aditya', 21)\n",
    "obj2.printInfo()"
   ]
  }
 ],
 "metadata": {
  "kernelspec": {
   "display_name": "Python 3 (ipykernel)",
   "language": "python",
   "name": "python3"
  },
  "language_info": {
   "codemirror_mode": {
    "name": "ipython",
    "version": 3
   },
   "file_extension": ".py",
   "mimetype": "text/x-python",
   "name": "python",
   "nbconvert_exporter": "python",
   "pygments_lexer": "ipython3",
   "version": "3.11.5"
  }
 },
 "nbformat": 4,
 "nbformat_minor": 5
}

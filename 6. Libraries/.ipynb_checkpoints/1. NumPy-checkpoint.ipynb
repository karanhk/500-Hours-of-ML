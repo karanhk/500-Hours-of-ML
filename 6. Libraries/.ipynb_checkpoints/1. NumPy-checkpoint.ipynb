{
 "cells": [
  {
   "cell_type": "markdown",
   "id": "0f91f995",
   "metadata": {},
   "source": [
    "<font color='red'><h1> Workbook for NumPy library</h1></font>"
   ]
  },
  {
   "cell_type": "markdown",
   "id": "9468f788",
   "metadata": {},
   "source": [
    "## Table of contents\n",
    "1. Introduction\n",
    "2. ndarray\n",
    "3. Add, remove and sort\n",
    "4. Dimension (axis)\n",
    "5. Matrix\n",
    "6. Indexing and slicing\n",
    "7. Operations on array\n",
    "8. Important functions"
   ]
  },
  {
   "cell_type": "markdown",
   "id": "8e497c14",
   "metadata": {},
   "source": [
    "## 1. Introduction"
   ]
  },
  {
   "cell_type": "markdown",
   "id": "6fce6891",
   "metadata": {},
   "source": [
    "NumPy (Numerical Python) is a python library used for performing mathematical operations. It is very widely used in ML, in all codes of ML you will find use of numpy. Numpy provides array data structure, which is called n dimensional array __ndarray__.\n",
    "\n",
    "This array is homogeneous (have elements of same type) and it is very faster than python list. The numpy is used to store values in ndarray and perform mathematical operations on it. Below is the code to import it."
   ]
  },
  {
   "cell_type": "code",
   "execution_count": 2,
   "id": "cfcb95a9",
   "metadata": {},
   "outputs": [],
   "source": [
    "import numpy as np"
   ]
  },
  {
   "cell_type": "markdown",
   "id": "5f91234d",
   "metadata": {},
   "source": [
    "## 2. ndarray"
   ]
  },
  {
   "cell_type": "markdown",
   "id": "d30edf0b",
   "metadata": {},
   "source": [
    "Numpy array is called n dimensional array or __ndarray__. It can be 1D - vector, 2D - matrix and nD - tensor. They can be created in many ways. See the code below."
   ]
  },
  {
   "cell_type": "code",
   "execution_count": 3,
   "id": "734cd1a9",
   "metadata": {},
   "outputs": [],
   "source": [
    "arr = np.array([1,2,3]) # Creating from python list\n",
    "arr = np.asarray([1,2,3]) # Creating from python list"
   ]
  },
  {
   "cell_type": "markdown",
   "id": "9069e03c",
   "metadata": {},
   "source": [
    "array creates copy of the object where asarray creates a new object. The same way metrics and tensors are created."
   ]
  },
  {
   "cell_type": "code",
   "execution_count": 4,
   "id": "58782bb4",
   "metadata": {},
   "outputs": [],
   "source": [
    "arr = np.zeros(3) # Creates array of 3 zeros\n",
    "arr = np.ones(3) # Creates array of 3 ones"
   ]
  },
  {
   "cell_type": "markdown",
   "id": "40c64b7a",
   "metadata": {},
   "source": [
    "Note that data type (dtype) of element is float64, you can change it. See the code below."
   ]
  },
  {
   "cell_type": "code",
   "execution_count": 5,
   "id": "25c430f6",
   "metadata": {},
   "outputs": [],
   "source": [
    "arr = np.zeros(3, dtype='int64') # Or you can write 'dtype = np.int64' or 'dtype = int'\n",
    "arr = np.empty(3, dtype=int) # Creates array of 3 random numners\n",
    "arr = np.arange(3, dtype=np.int64) # Creates array of 0 to n-1 numbers\n",
    "arr = np.arange(2,8,2) # Creates array with AP of start = 2, end = 8 (exclusive) and d = 2\n",
    "arr = np.linspace(0,2,num=5) # Creates array with AP of start = 0, end = 2 (inclusive) and n = 5"
   ]
  },
  {
   "cell_type": "markdown",
   "id": "5b969acc",
   "metadata": {},
   "source": [
    "## 3. Add, remove and sort"
   ]
  },
  {
   "cell_type": "code",
   "execution_count": 6,
   "id": "968cd706",
   "metadata": {},
   "outputs": [],
   "source": [
    "arr = np.array([1,2,3])"
   ]
  },
  {
   "cell_type": "code",
   "execution_count": 7,
   "id": "ae139a23",
   "metadata": {},
   "outputs": [],
   "source": [
    "arr = np.append(arr,4) # Adds 4 at last\n",
    "arr = np.delete(arr,2) # Delets element at index 2\n",
    "arr[0] = 2 # Changes element at index 0"
   ]
  },
  {
   "cell_type": "code",
   "execution_count": 8,
   "id": "92daae87",
   "metadata": {},
   "outputs": [],
   "source": [
    "arr = np.sort(arr) # Sorts array\n",
    "arr = sorted(arr) # Sorts array"
   ]
  },
  {
   "cell_type": "markdown",
   "id": "19798852",
   "metadata": {},
   "source": [
    "## 4. Dimension (axis)"
   ]
  },
  {
   "cell_type": "code",
   "execution_count": 9,
   "id": "3fbd9815",
   "metadata": {},
   "outputs": [],
   "source": [
    "arr = np.array([[1,2,3], [4,5,6]])"
   ]
  },
  {
   "cell_type": "code",
   "execution_count": 10,
   "id": "d9c55ffd",
   "metadata": {},
   "outputs": [
    {
     "name": "stdout",
     "output_type": "stream",
     "text": [
      "Dimensions : 2\n",
      "Size : 6\n",
      "Shape : (2, 3)\n"
     ]
    }
   ],
   "source": [
    "print('Dimensions :', arr.ndim) # Prints the dimensions of array\n",
    "print('Size :', arr.size) # Number of elements\n",
    "print('Shape :', arr.shape) # Number of element along each dimension "
   ]
  },
  {
   "cell_type": "markdown",
   "id": "76c8266e",
   "metadata": {},
   "source": [
    "## 5. Matrix"
   ]
  },
  {
   "cell_type": "markdown",
   "id": "5cf2eb1c",
   "metadata": {},
   "source": [
    "A numpy array having 2 dimensions is called matrix. Here are some matrix operations."
   ]
  },
  {
   "cell_type": "code",
   "execution_count": 15,
   "id": "19f1a5e1",
   "metadata": {},
   "outputs": [],
   "source": [
    "mat = np.array([(1,2,3,4),(5,6,7,8)])\n",
    "tran = mat.T # Transpose\n",
    "ones = np.ones((1,2), dtype=int) # Matrix of shape (1,2) having all 1\n",
    "full = np.full((1,2),3) # Matrix of shape (1,2) having all 3\n",
    "rand = np.random.random((1,2)) # Float values between 0 and 1\n",
    "rand = np.random.randint(10,20,(1,2)) # Int values between 10 (inclusive) and 20 (exclusive)\n",
    "eyeMatrix = np.eye(3) # Identity matrix of size 3x3"
   ]
  },
  {
   "cell_type": "markdown",
   "id": "ec5036d4",
   "metadata": {},
   "source": [
    "## 6. Indexing and slicing"
   ]
  },
  {
   "cell_type": "markdown",
   "id": "66164840",
   "metadata": {},
   "source": [
    "I and S is same as python list or string. See the code below."
   ]
  },
  {
   "cell_type": "code",
   "execution_count": 47,
   "id": "5b641426",
   "metadata": {},
   "outputs": [],
   "source": [
    "a = np.arange(10)"
   ]
  },
  {
   "cell_type": "code",
   "execution_count": 57,
   "id": "e2eee66a",
   "metadata": {},
   "outputs": [
    {
     "name": "stdout",
     "output_type": "stream",
     "text": [
      "[2 3]\n",
      "[7 8]\n",
      "[0 1 2 3 4]\n",
      "[0 2 4]\n",
      "[0 1 2 3 4 6 8]\n"
     ]
    }
   ],
   "source": [
    "print(a[2:4])\n",
    "print(a[-3:-1])\n",
    "print(a[a < 5]) # Elements less than 5\n",
    "print(a[(a < 5) & (a%2 == 0)]) # Observe the '&' operation here\n",
    "print(a[(a < 5) | (a%2==0)]) # Observe the '|' operation here"
   ]
  },
  {
   "cell_type": "markdown",
   "id": "f824cf9b",
   "metadata": {},
   "source": [
    "## 7. Operations on array"
   ]
  },
  {
   "cell_type": "code",
   "execution_count": 16,
   "id": "cea4f09a",
   "metadata": {},
   "outputs": [
    {
     "name": "stdout",
     "output_type": "stream",
     "text": [
      "[5 7 9]\n",
      "[-3 -3 -3]\n",
      "[ 4 10 18]\n",
      "[0.25 0.4  0.5 ]\n"
     ]
    }
   ],
   "source": [
    "arr1 = np.array([1,2,3])\n",
    "arr2 = np.array([4,5,6])\n",
    "\n",
    "print(arr1 + arr2) # Sum of elements\n",
    "print(arr1 - arr2) # Subtraction\n",
    "print(arr1 * arr2) # Multiplication\n",
    "print(arr1 / arr2) # Division"
   ]
  },
  {
   "cell_type": "markdown",
   "id": "c1a678c3",
   "metadata": {},
   "source": [
    "Recall that in list '+' is used to concatenate the lists."
   ]
  },
  {
   "cell_type": "code",
   "execution_count": 58,
   "id": "d2dceb2c",
   "metadata": {},
   "outputs": [
    {
     "data": {
      "text/plain": [
       "3"
      ]
     },
     "execution_count": 58,
     "metadata": {},
     "output_type": "execute_result"
    }
   ],
   "source": [
    "# Another method\n",
    "np.add(arr1,arr2)\n",
    "np.subtract(arr1,arr2)\n",
    "np.multiply(arr1,arr2)\n",
    "np.divide(arr1,arr2)\n",
    "np.max(arr1)\n",
    "np.min(arr1)"
   ]
  },
  {
   "cell_type": "code",
   "execution_count": 19,
   "id": "78df6fe4",
   "metadata": {},
   "outputs": [
    {
     "name": "stdout",
     "output_type": "stream",
     "text": [
      "Square root : [1.         1.41421356 1.73205081]\n",
      "Mean : 2.0\n",
      "Median : 2.0\n",
      "Variance : 0.6666666666666666\n",
      "Standard deviation : 0.816496580927726\n"
     ]
    }
   ],
   "source": [
    "print('Square root :', np.sqrt(arr1))\n",
    "print('Mean :', np.mean(arr1))\n",
    "print('Median :', np.median(arr1))\n",
    "print('Variance :', np.var(arr1))\n",
    "print('Standard deviation :', np.std(arr1))"
   ]
  },
  {
   "cell_type": "markdown",
   "id": "e37c7a6c",
   "metadata": {},
   "source": [
    "## 8. Important functions"
   ]
  },
  {
   "cell_type": "code",
   "execution_count": 20,
   "id": "63fc026d",
   "metadata": {},
   "outputs": [],
   "source": [
    "a = np.arange(6)"
   ]
  },
  {
   "cell_type": "code",
   "execution_count": 23,
   "id": "b9e84cfb",
   "metadata": {},
   "outputs": [
    {
     "name": "stdout",
     "output_type": "stream",
     "text": [
      "(3, 2)\n"
     ]
    }
   ],
   "source": [
    "b = a.reshape(3,2) # Changes the shape, size remains the same\n",
    "b = np.reshape(a, (3,2)) # Equivalent to above\n",
    "print(b.shape)"
   ]
  },
  {
   "cell_type": "code",
   "execution_count": 24,
   "id": "9094868c",
   "metadata": {},
   "outputs": [],
   "source": [
    "a = b.reshape(-1) # Makes 1D array from nD array\n",
    "a = b.reshape((-1,2)) # Reshapes the array by adjusting dimension at -1, and keeping size same"
   ]
  },
  {
   "cell_type": "code",
   "execution_count": 46,
   "id": "429092f8",
   "metadata": {},
   "outputs": [
    {
     "data": {
      "text/plain": [
       "(2, 3, 1)"
      ]
     },
     "execution_count": 46,
     "metadata": {},
     "output_type": "execute_result"
    }
   ],
   "source": [
    "np.expand_dims(b, axis=0).shape # Expand dimensions along axis\n",
    "np.expand_dims(b, axis=1).shape\n",
    "np.expand_dims(b, axis=2).shape"
   ]
  },
  {
   "cell_type": "code",
   "execution_count": 67,
   "id": "954b79e5",
   "metadata": {},
   "outputs": [],
   "source": [
    "a = np.arange(6).reshape(-1,3)\n",
    "b = np.arange(5,11,1).reshape(-1,3)"
   ]
  },
  {
   "cell_type": "code",
   "execution_count": 68,
   "id": "431641ba",
   "metadata": {},
   "outputs": [
    {
     "name": "stdout",
     "output_type": "stream",
     "text": [
      "[[ 0  1  2]\n",
      " [ 3  4  5]\n",
      " [ 5  6  7]\n",
      " [ 8  9 10]]\n"
     ]
    }
   ],
   "source": [
    "c = np.concatenate((a,b), axis=0) # Concatenate along axis\n",
    "print(c)"
   ]
  },
  {
   "cell_type": "code",
   "execution_count": 69,
   "id": "e506873e",
   "metadata": {},
   "outputs": [
    {
     "name": "stdout",
     "output_type": "stream",
     "text": [
      "[[ 0  1  2  5  6  7]\n",
      " [ 3  4  5  8  9 10]]\n"
     ]
    }
   ],
   "source": [
    "c = np.concatenate((a,b), axis=1) # Concatenate along axis\n",
    "print(c)"
   ]
  }
 ],
 "metadata": {
  "kernelspec": {
   "display_name": "Python 3 (ipykernel)",
   "language": "python",
   "name": "python3"
  },
  "language_info": {
   "codemirror_mode": {
    "name": "ipython",
    "version": 3
   },
   "file_extension": ".py",
   "mimetype": "text/x-python",
   "name": "python",
   "nbconvert_exporter": "python",
   "pygments_lexer": "ipython3",
   "version": "3.11.5"
  }
 },
 "nbformat": 4,
 "nbformat_minor": 5
}

{
 "cells": [
  {
   "cell_type": "markdown",
   "id": "d8a6bdd1",
   "metadata": {},
   "source": [
    "<font color='red'><h1> Workbook for operators and control statements </h1></font>"
   ]
  },
  {
   "cell_type": "markdown",
   "id": "df2c5820",
   "metadata": {},
   "source": [
    "## Table of Contents : \n",
    "\n",
    "1. I/O in Python\n",
    "2. Operators\n",
    "3. If-else\n",
    "4. For loop\n",
    "5. While and do while loop\n",
    "6. Break, continue and pass"
   ]
  },
  {
   "cell_type": "markdown",
   "id": "0a63e69d",
   "metadata": {},
   "source": [
    "### 1. I/O in Python"
   ]
  },
  {
   "cell_type": "markdown",
   "id": "583bb392",
   "metadata": {},
   "source": [
    "For taking input Python uses input function. The return type of input will be string in Python, we can typecast it to our desired type."
   ]
  },
  {
   "cell_type": "code",
   "execution_count": 1,
   "id": "af186d26",
   "metadata": {},
   "outputs": [
    {
     "name": "stdout",
     "output_type": "stream",
     "text": [
      "Enter your name : Karan\n",
      "Enter your age : 20\n"
     ]
    }
   ],
   "source": [
    "name = input('Enter your name : ')\n",
    "age = int(input('Enter your age : '))"
   ]
  },
  {
   "cell_type": "markdown",
   "id": "baed5d3e",
   "metadata": {},
   "source": [
    "We can take multiple input by using split function, the inputs by default are splitted by whitespace."
   ]
  },
  {
   "cell_type": "code",
   "execution_count": 5,
   "id": "f8c73f87",
   "metadata": {},
   "outputs": [
    {
     "name": "stdout",
     "output_type": "stream",
     "text": [
      "Enter information : 22 23 32\n"
     ]
    },
    {
     "data": {
      "text/plain": [
       "[['22', '23', '32']]"
      ]
     },
     "execution_count": 5,
     "metadata": {},
     "output_type": "execute_result"
    }
   ],
   "source": [
    "info = [input('Enter information : ').split()]\n",
    "info"
   ]
  },
  {
   "cell_type": "code",
   "execution_count": 7,
   "id": "f1cb9565",
   "metadata": {},
   "outputs": [
    {
     "name": "stdout",
     "output_type": "stream",
     "text": [
      "Enter information : 2,3,4\n"
     ]
    },
    {
     "data": {
      "text/plain": [
       "[['2', '3', '4']]"
      ]
     },
     "execution_count": 7,
     "metadata": {},
     "output_type": "execute_result"
    }
   ],
   "source": [
    "info = [input('Enter information : ').split(',')]\n",
    "info"
   ]
  },
  {
   "cell_type": "markdown",
   "id": "31b16eb1",
   "metadata": {},
   "source": [
    "Observe list comprehension here."
   ]
  },
  {
   "cell_type": "markdown",
   "id": "e5d0c0c4",
   "metadata": {},
   "source": [
    "In python print function is used to display output. The print function prints new line by defaulut, we need to specify ending as per our need. The values in print are seperated by comma."
   ]
  },
  {
   "cell_type": "code",
   "execution_count": 11,
   "id": "09297ff2",
   "metadata": {},
   "outputs": [
    {
     "name": "stdout",
     "output_type": "stream",
     "text": [
      "Hello Karan\n",
      "My age is 20\n",
      "New line\n"
     ]
    }
   ],
   "source": [
    "print('Hello',end=' ')\n",
    "print('Karan')\n",
    "print('My age is', 20) # Note that comma by default adds space\n",
    "print('New line')"
   ]
  },
  {
   "cell_type": "markdown",
   "id": "ad517d55",
   "metadata": {},
   "source": [
    "### 2. Operators"
   ]
  },
  {
   "cell_type": "markdown",
   "id": "193ba9d8",
   "metadata": {},
   "source": [
    "Arithmatic : +, -, /, * are same. The / returns the float value. The // returns nearest lowest integer and ** is used for power. (3 // 2 = 1, 3**2 = 9, 3 / 2 = 1.5)"
   ]
  },
  {
   "cell_type": "markdown",
   "id": "d63e7577",
   "metadata": {},
   "source": [
    "Assignment : =, +=, -=, *=, /=, //=, **="
   ]
  },
  {
   "cell_type": "markdown",
   "id": "b06488d9",
   "metadata": {},
   "source": [
    "Comparison : ==, !=, >=, <=, >, <"
   ]
  },
  {
   "cell_type": "markdown",
   "id": "4f0a4b87",
   "metadata": {},
   "source": [
    "Logical : and, or, not"
   ]
  },
  {
   "cell_type": "markdown",
   "id": "35ea4ac3",
   "metadata": {},
   "source": [
    "Identity : is, is not. 'is' is equivalent to '==' and 'is not' is equivalent to '!='"
   ]
  },
  {
   "cell_type": "markdown",
   "id": "170b2ea3",
   "metadata": {},
   "source": [
    "Membership : in, not in. By the time you will be familier with membership operators."
   ]
  },
  {
   "cell_type": "markdown",
   "id": "ecd1f33d",
   "metadata": {},
   "source": [
    "Notice that python doesn't have increment (++) or decrement (--) operators."
   ]
  },
  {
   "cell_type": "code",
   "execution_count": 7,
   "id": "d22c85c7",
   "metadata": {},
   "outputs": [
    {
     "data": {
      "text/plain": [
       "True"
      ]
     },
     "execution_count": 7,
     "metadata": {},
     "output_type": "execute_result"
    }
   ],
   "source": [
    "myList = [1,2,3]\n",
    "1 in myList"
   ]
  },
  {
   "cell_type": "markdown",
   "id": "3a9c2184",
   "metadata": {},
   "source": [
    "## 3. If-else"
   ]
  },
  {
   "cell_type": "markdown",
   "id": "01af3d72",
   "metadata": {},
   "source": [
    "'if' and 'else' are same from other languages, python uses 'elif' instead of 'else if'. You can use nested if also. Notice the identation here."
   ]
  },
  {
   "cell_type": "code",
   "execution_count": 2,
   "id": "0728f810",
   "metadata": {},
   "outputs": [
    {
     "name": "stdout",
     "output_type": "stream",
     "text": [
      "can vote in future\n"
     ]
    }
   ],
   "source": [
    "age = 12\n",
    "identity = 'Indian'\n",
    "\n",
    "if age >= 18 and identity == 'Indian':\n",
    "    print('can vote')\n",
    "    \n",
    "elif identity == 'Indian':\n",
    "    print('can vote in future')\n",
    "    \n",
    "else:\n",
    "    print('can\\'t vote') # Observe \\ before inverted comma"
   ]
  },
  {
   "cell_type": "markdown",
   "id": "fa959f0f",
   "metadata": {},
   "source": [
    "## 4. For loop"
   ]
  },
  {
   "cell_type": "markdown",
   "id": "e5f94f5e",
   "metadata": {},
   "source": [
    "Same as other languages, but used differently. It has range function to iterate. See the code below."
   ]
  },
  {
   "cell_type": "code",
   "execution_count": 4,
   "id": "24ded6a9",
   "metadata": {},
   "outputs": [
    {
     "name": "stdout",
     "output_type": "stream",
     "text": [
      "0 1 2 3 4 "
     ]
    }
   ],
   "source": [
    "for i in range(5):  # range(5) means 0 to 4\n",
    "    print(i, end=' ')"
   ]
  },
  {
   "cell_type": "code",
   "execution_count": 6,
   "id": "8a27b7ba",
   "metadata": {},
   "outputs": [
    {
     "name": "stdout",
     "output_type": "stream",
     "text": [
      "1 2 3 4 "
     ]
    }
   ],
   "source": [
    "for i in range(1,5): # range from 1 to 3\n",
    "    print(i,end=' ')"
   ]
  },
  {
   "cell_type": "code",
   "execution_count": 8,
   "id": "5a09436d",
   "metadata": {},
   "outputs": [
    {
     "name": "stdout",
     "output_type": "stream",
     "text": [
      "1 2 3 4 "
     ]
    }
   ],
   "source": [
    "for i in [1,2,3,4]: # Print from list\n",
    "    print(i,end=' ')"
   ]
  },
  {
   "cell_type": "markdown",
   "id": "67b6fc1b",
   "metadata": {},
   "source": [
    "Notice that you need to define variable before for loop unlike other languages. (for i = 0; i < 5; i+=1) such kind is not allowed."
   ]
  },
  {
   "cell_type": "markdown",
   "id": "c4af98a3",
   "metadata": {},
   "source": [
    "## 5. While and do-while"
   ]
  },
  {
   "cell_type": "markdown",
   "id": "52e0d83b",
   "metadata": {},
   "source": [
    "While loop is same as other languages. Python doesn't have do-while loop, you can modify while to work as do-while."
   ]
  },
  {
   "cell_type": "code",
   "execution_count": 9,
   "id": "aa40e79a",
   "metadata": {},
   "outputs": [
    {
     "name": "stdout",
     "output_type": "stream",
     "text": [
      "0 1 2 3 4 "
     ]
    }
   ],
   "source": [
    "i = 0\n",
    "while i < 5:\n",
    "    print(i,end=' ')\n",
    "    i += 1"
   ]
  },
  {
   "cell_type": "markdown",
   "id": "bb302a6d",
   "metadata": {},
   "source": [
    "## 6. Break, continue and pass"
   ]
  },
  {
   "cell_type": "markdown",
   "id": "e3a08fa1",
   "metadata": {},
   "source": [
    "Break and continue are same as other languages. The pass is the placeholder for future code. The pass can be used inside function, loop and class. See the code below."
   ]
  },
  {
   "cell_type": "code",
   "execution_count": 12,
   "id": "7e754fb3",
   "metadata": {},
   "outputs": [
    {
     "ename": "IndentationError",
     "evalue": "expected an indented block after 'for' statement on line 2 (1767805032.py, line 4)",
     "output_type": "error",
     "traceback": [
      "\u001b[0;36m  Cell \u001b[0;32mIn[12], line 4\u001b[0;36m\u001b[0m\n\u001b[0;31m    for i in range(3): # Doesn't throw error\u001b[0m\n\u001b[0m    ^\u001b[0m\n\u001b[0;31mIndentationError\u001b[0m\u001b[0;31m:\u001b[0m expected an indented block after 'for' statement on line 2\n"
     ]
    }
   ],
   "source": [
    "i = 0\n",
    "for i in range(3): # Empty loop throws error"
   ]
  },
  {
   "cell_type": "code",
   "execution_count": 13,
   "id": "c7bc5b02",
   "metadata": {},
   "outputs": [],
   "source": [
    "for i in range(3): # Doesn't throw error\n",
    "    pass"
   ]
  }
 ],
 "metadata": {
  "kernelspec": {
   "display_name": "Python 3 (ipykernel)",
   "language": "python",
   "name": "python3"
  },
  "language_info": {
   "codemirror_mode": {
    "name": "ipython",
    "version": 3
   },
   "file_extension": ".py",
   "mimetype": "text/x-python",
   "name": "python",
   "nbconvert_exporter": "python",
   "pygments_lexer": "ipython3",
   "version": "3.11.5"
  }
 },
 "nbformat": 4,
 "nbformat_minor": 5
}

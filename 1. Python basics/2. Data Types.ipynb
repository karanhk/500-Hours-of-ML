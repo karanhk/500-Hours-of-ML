{
 "cells": [
  {
   "cell_type": "markdown",
   "metadata": {},
   "source": [
    "<font color='red'><h1> 2. Data Types </h1></font>"
   ]
  },
  {
   "cell_type": "markdown",
   "metadata": {},
   "source": [
    "### Table of Contents : \n",
    "1. Intro\n",
    "2. String\n",
    "3. Integer, Float & Complex\n",
    "4. Boolean\n",
    "5. List\n",
    "6. Tuple\n",
    "7. Set\n",
    "8. Dictionary"
   ]
  },
  {
   "cell_type": "markdown",
   "metadata": {},
   "source": [
    "### 1. Introduction"
   ]
  },
  {
   "cell_type": "markdown",
   "metadata": {},
   "source": [
    "Python has several data types mentioned above and some others. Notice that character and double are not data types in Python. Character is defined as string of length 1 and double is defined as float. The range of data types depends on system memory, means Python doesn't have size limits.\n",
    "\n",
    "The type of variable is defined by the type function and we can do typecasting also. See the below code snippet."
   ]
  },
  {
   "cell_type": "code",
   "execution_count": 9,
   "metadata": {},
   "outputs": [
    {
     "name": "stdout",
     "output_type": "stream",
     "text": [
      "<class 'str'>   <class 'int'>\n",
      "<class 'str'>\n"
     ]
    }
   ],
   "source": [
    "name = 'Karan'; age = 20\n",
    "print(type(name),' ',type(age))\n",
    "print(type(str(age))) # int to str"
   ]
  },
  {
   "cell_type": "markdown",
   "metadata": {},
   "source": [
    "Notice that you can declare multiple variables in single line using semicolon."
   ]
  },
  {
   "cell_type": "markdown",
   "metadata": {},
   "source": [
    "### 2. String"
   ]
  },
  {
   "cell_type": "markdown",
   "metadata": {},
   "source": [
    "Strings are immutable in Python and are declard by single, double and triple quotes. In Python string can be concatenated using '+'. Strings are defined by 'str' keyword in Python. See the given code below."
   ]
  },
  {
   "cell_type": "code",
   "execution_count": 11,
   "metadata": {},
   "outputs": [
    {
     "name": "stdout",
     "output_type": "stream",
     "text": [
      "Karan Hadiyal\n"
     ]
    }
   ],
   "source": [
    "first_name = 'Karan'\n",
    "last_name = 'Hadiyal'\n",
    "\n",
    "full_name = first_name + ' ' + last_name\n",
    "print(full_name)"
   ]
  },
  {
   "cell_type": "markdown",
   "metadata": {},
   "source": [
    "The character at perticular index can bee accessed by 0 based indexing starting from left. Also by using negative indexing, you can access character from right. The last character has index -1. This indexing is applied to list and tuple also."
   ]
  },
  {
   "cell_type": "code",
   "execution_count": 12,
   "metadata": {},
   "outputs": [
    {
     "name": "stdout",
     "output_type": "stream",
     "text": [
      "r\n",
      "l\n"
     ]
    }
   ],
   "source": [
    "print(full_name[2])\n",
    "print(full_name[-1])"
   ]
  },
  {
   "cell_type": "markdown",
   "metadata": {},
   "source": [
    "The substring from a string can be accessed by string slicing. See the code below."
   ]
  },
  {
   "cell_type": "code",
   "execution_count": 14,
   "metadata": {},
   "outputs": [
    {
     "name": "stdout",
     "output_type": "stream",
     "text": [
      "ran\n",
      "Hadiyal\n",
      "Karan Hadi\n"
     ]
    }
   ],
   "source": [
    "print(full_name[2:5]) # Prints character from index 2 to index 4, ch. at index 5 will not be printed\n",
    "print(full_name[6:]) # Prints substring from character at index 6\n",
    "print(full_name[:-3]) # Prints substring upto third last character, third last ch. will not be printed"
   ]
  },
  {
   "cell_type": "markdown",
   "metadata": {},
   "source": [
    "To check a string to be substring of another string the 'in' keyword is used. See the code given below."
   ]
  },
  {
   "cell_type": "code",
   "execution_count": 16,
   "metadata": {},
   "outputs": [
    {
     "name": "stdout",
     "output_type": "stream",
     "text": [
      "Yes\n"
     ]
    }
   ],
   "source": [
    "if 'Karan' in full_name:\n",
    "    print('Yes')"
   ]
  },
  {
   "cell_type": "markdown",
   "metadata": {},
   "source": [
    "To replace all occurences of a character the 'replace' function is used. You can replace substring also. To replace / add / delete at perticular index convert string to list and modify list and convert list to string."
   ]
  },
  {
   "cell_type": "code",
   "execution_count": 17,
   "metadata": {},
   "outputs": [
    {
     "name": "stdout",
     "output_type": "stream",
     "text": [
      "Karan Hadiyal\n",
      "Keren Hediyel\n"
     ]
    }
   ],
   "source": [
    "myList = list(full_name) # Converts string to list\n",
    "\n",
    "print(''.join(myList)) # Joins elements of myList by empty string\n",
    "print(full_name.replace('a','e')) # Replace all occurences of a by e"
   ]
  },
  {
   "cell_type": "markdown",
   "metadata": {},
   "source": [
    "String can be splitted using split function and returns the list."
   ]
  },
  {
   "cell_type": "code",
   "execution_count": 19,
   "metadata": {},
   "outputs": [
    {
     "data": {
      "text/plain": [
       "['Karan', 'Hadiyal']"
      ]
     },
     "execution_count": 19,
     "metadata": {},
     "output_type": "execute_result"
    }
   ],
   "source": [
    "full_name.split(' ')"
   ]
  },
  {
   "cell_type": "markdown",
   "metadata": {},
   "source": [
    "### 3. Integer, Float & Complex"
   ]
  },
  {
   "cell_type": "markdown",
   "metadata": {},
   "source": [
    "Integer is same as other languages. Float is like float and double, python doesn't have double data type. Complex is to represent complex number. See the below code."
   ]
  },
  {
   "cell_type": "code",
   "execution_count": 21,
   "metadata": {},
   "outputs": [
    {
     "data": {
      "text/plain": [
       "complex"
      ]
     },
     "execution_count": 21,
     "metadata": {},
     "output_type": "execute_result"
    }
   ],
   "source": [
    "age = 20 # Integer\n",
    "weight = 70.6 # Double\n",
    "num = 3 + 2j\n",
    "\n",
    "type(num)"
   ]
  },
  {
   "cell_type": "markdown",
   "metadata": {},
   "source": [
    "### 4. Boolean"
   ]
  },
  {
   "cell_type": "markdown",
   "metadata": {},
   "source": [
    "Python has boolean data type, which has two values : 'True' and 'False'. Notice that 'T' and 'F' are capital."
   ]
  },
  {
   "cell_type": "markdown",
   "metadata": {},
   "source": [
    "### 5. List"
   ]
  },
  {
   "cell_type": "markdown",
   "metadata": {},
   "source": [
    "List are like arrays in Python. They are mutable and hetrogeneous. Hetrogeneous means they can have multiple data types together. Indexing and slicing is same as string. In Python n-dimensional list can be created, a list can have multiple lists of varying length. List can be altered after declaration. See the code below."
   ]
  },
  {
   "cell_type": "code",
   "execution_count": 24,
   "metadata": {},
   "outputs": [
    {
     "data": {
      "text/plain": [
       "[True, 20, 1, 2, 3]"
      ]
     },
     "execution_count": 24,
     "metadata": {},
     "output_type": "execute_result"
    }
   ],
   "source": [
    "info = ['Karan', 20, 70.6]\n",
    "\n",
    "info.append('Hadiyal') # Add element at last\n",
    "info.insert(1, True) # Insert element at index 1\n",
    "info.pop() # Removes last element\n",
    "info.remove(70.6) # Removes first match of value\n",
    "info.pop(0) # Removes at index 0\n",
    "sorted(info) # Sorts the list\n",
    "len(info) # Length of list\n",
    "info + [1, 2, 3] # Concatenation of two lists"
   ]
  },
  {
   "cell_type": "markdown",
   "metadata": {},
   "source": [
    "List comprehension is used to create list using control statement. See the code below carefully and understand it."
   ]
  },
  {
   "cell_type": "code",
   "execution_count": 23,
   "metadata": {},
   "outputs": [
    {
     "data": {
      "text/plain": [
       "[3, 5]"
      ]
     },
     "execution_count": 23,
     "metadata": {},
     "output_type": "execute_result"
    }
   ],
   "source": [
    "newList = [x + 1 for x in range(2,5) if x % 2 == 0]\n",
    "newList"
   ]
  },
  {
   "cell_type": "markdown",
   "metadata": {},
   "source": [
    "### 6. Tuple"
   ]
  },
  {
   "cell_type": "markdown",
   "metadata": {},
   "source": [
    "Tuple is like list but with some differences. \n",
    "1. Defined with parenthesis \n",
    "2. append, insert, remove, pop, sorted can not be used. \n",
    "3. Faster"
   ]
  },
  {
   "cell_type": "code",
   "execution_count": 32,
   "metadata": {},
   "outputs": [
    {
     "data": {
      "text/plain": [
       "(1, 2, 'Karan', 1.23, 1)"
      ]
     },
     "execution_count": 32,
     "metadata": {},
     "output_type": "execute_result"
    }
   ],
   "source": [
    "myTuple = (1, 2, 'Karan', 1.23)\n",
    "\n",
    "myTuple + (1, ) # Concatenation, observe tuple for single element"
   ]
  },
  {
   "cell_type": "markdown",
   "metadata": {},
   "source": [
    "### 7. Set"
   ]
  },
  {
   "cell_type": "markdown",
   "metadata": {},
   "source": [
    "Set in Python is like hashset in Java. They are unordered, mutable and hetrogeneous. By mutable it means that we can append and delete element from it. See the below codde. "
   ]
  },
  {
   "cell_type": "code",
   "execution_count": 9,
   "metadata": {},
   "outputs": [
    {
     "data": {
      "text/plain": [
       "1"
      ]
     },
     "execution_count": 9,
     "metadata": {},
     "output_type": "execute_result"
    }
   ],
   "source": [
    "mySet = set() # Creates an empty set\n",
    "mySet = set([1,2,70.6,'Karan']) # Create set from list\n",
    "mySet = {1, 70.6, 'Karan'} # Create set directly\n",
    "\n",
    "mySet.add(True) # Can add duplicate, but it will be stored once\n",
    "mySet.update([1,2]) # Adds more than one items\n",
    "mySet.remove(70.6) # Throws error if element is not available\n",
    "mySet.discard(70.6) # Same as remove, keeps set unchanged if element is not available\n",
    "mySet.pop() # Removes last element, notice that set is unodered, last element need not to be last added"
   ]
  },
  {
   "cell_type": "code",
   "execution_count": 10,
   "metadata": {},
   "outputs": [
    {
     "name": "stdout",
     "output_type": "stream",
     "text": [
      "2\n",
      "Karan\n",
      "Yes\n"
     ]
    }
   ],
   "source": [
    "# To iterate through set\n",
    "for item in mySet:\n",
    "    print(item)\n",
    "\n",
    "# To check availability\n",
    "if 'Karan' in mySet:\n",
    "    print('Yes')"
   ]
  },
  {
   "cell_type": "markdown",
   "metadata": {},
   "source": [
    "### 8. Dictionary"
   ]
  },
  {
   "cell_type": "markdown",
   "metadata": {},
   "source": [
    "Dictionary in Python is like hashmap in Java. It stores key:value pair. Nested dictionary can also be created. See the code below."
   ]
  },
  {
   "cell_type": "code",
   "execution_count": 25,
   "metadata": {},
   "outputs": [
    {
     "data": {
      "text/plain": [
       "[20, True, 'Music']"
      ]
     },
     "execution_count": 25,
     "metadata": {},
     "output_type": "execute_result"
    }
   ],
   "source": [
    "myDict = {1:'2', 3:'4'} # Creates dictionary\n",
    "myDict = dict({'Name' : 'Karan', 'Age' : 20, 3 : True}) # Using dict keyword\n",
    "myDict = dict((('Name', 'Karan'), ('Age',20), (3, True)))\n",
    "\n",
    "myDict['Name'] # Access value from key, throws error if key doesn't exist\n",
    "myDict.get('Name') # Access value from key, doesn't throw error\n",
    "myDict['Hobby'] = 'Music' # Adds pair, if key already exists then updates the value\n",
    "\n",
    "del(myDict['Name']) # Delets value\n",
    "list(myDict.keys()) # dict_list of keys typecasted into list\n",
    "list(myDict.values()) # dict_list of values typecasted into list"
   ]
  }
 ],
 "metadata": {
  "colab": {
   "collapsed_sections": [
    "-WvGy_yEMZqy",
    "VoF-mwOrNd47",
    "TF5JGYWwOCZ9",
    "0Z9JChvaPpsm"
   ],
   "provenance": []
  },
  "kernelspec": {
   "display_name": "Python 3 (ipykernel)",
   "language": "python",
   "name": "python3"
  },
  "language_info": {
   "codemirror_mode": {
    "name": "ipython",
    "version": 3
   },
   "file_extension": ".py",
   "mimetype": "text/x-python",
   "name": "python",
   "nbconvert_exporter": "python",
   "pygments_lexer": "ipython3",
   "version": "3.11.5"
  }
 },
 "nbformat": 4,
 "nbformat_minor": 1
}

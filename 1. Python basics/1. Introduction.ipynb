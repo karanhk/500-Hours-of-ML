{
 "cells": [
  {
   "cell_type": "markdown",
   "metadata": {},
   "source": [
    "<font color='red'><h1> 1. Python Introduction </h1></font>"
   ]
  },
  {
   "cell_type": "markdown",
   "metadata": {},
   "source": [
    "### Table of Contents : \n",
    "1. Intro to Python\n",
    "2. Structure of Python\n",
    "3. Keyword in Python\n",
    "4. Identation and Comment in Python"
   ]
  },
  {
   "cell_type": "markdown",
   "metadata": {},
   "source": [
    "### 1. Intro to Pyhon"
   ]
  },
  {
   "cell_type": "markdown",
   "metadata": {},
   "source": [
    "Python is a general-purpose, high-level programming language. High-level programming language means it is closer to human language rather than machine language. \n",
    "\n",
    "It is interpreted language, means it doesn't require seperate compilation before execution. Instead each line is directly executed by the interpreter. The interpreter reads the line, converts into platform independent bytecode and executes the bytecode.\n",
    "\n",
    "Apart from this, Python is dynamic and interactive language. Dynamic means the variabel types are determined at runtime. Interactive means each code snippet can be run independently.\n",
    "\n",
    "Currently, Python 3.x is in use, It is the most recent version of Python."
   ]
  },
  {
   "cell_type": "markdown",
   "metadata": {},
   "source": [
    "### 2. Structure of Pyhon"
   ]
  },
  {
   "cell_type": "markdown",
   "metadata": {},
   "source": [
    "Python is very high-level language, it needs very less lines of code. In python you don't need to define the class or method. You can directly start the program.\n",
    "\n",
    "You don't need to determine datatype of variable, return type in function and much more. Below is the simple program to print 'Hello World!'. Notice that you don't need to put semicolon at the end of sentence :), However if you put it, it won't give compilation error."
   ]
  },
  {
   "cell_type": "code",
   "execution_count": 1,
   "metadata": {},
   "outputs": [
    {
     "name": "stdout",
     "output_type": "stream",
     "text": [
      "Hello World!\n"
     ]
    }
   ],
   "source": [
    "print('Hello World!')"
   ]
  },
  {
   "cell_type": "markdown",
   "metadata": {},
   "source": [
    "### 3. Keywords in Pyhon"
   ]
  },
  {
   "cell_type": "markdown",
   "metadata": {},
   "source": [
    "Python has set of keywords, which are reserved for its internal use. You can not use them. You can get list of keywords by the following command. You will get to know about each keyword by the time."
   ]
  },
  {
   "cell_type": "code",
   "execution_count": 2,
   "metadata": {
    "scrolled": true
   },
   "outputs": [
    {
     "data": {
      "text/plain": [
       "['False',\n",
       " 'None',\n",
       " 'True',\n",
       " 'and',\n",
       " 'as',\n",
       " 'assert',\n",
       " 'async',\n",
       " 'await',\n",
       " 'break',\n",
       " 'class',\n",
       " 'continue',\n",
       " 'def',\n",
       " 'del',\n",
       " 'elif',\n",
       " 'else',\n",
       " 'except',\n",
       " 'finally',\n",
       " 'for',\n",
       " 'from',\n",
       " 'global',\n",
       " 'if',\n",
       " 'import',\n",
       " 'in',\n",
       " 'is',\n",
       " 'lambda',\n",
       " 'nonlocal',\n",
       " 'not',\n",
       " 'or',\n",
       " 'pass',\n",
       " 'raise',\n",
       " 'return',\n",
       " 'try',\n",
       " 'while',\n",
       " 'with',\n",
       " 'yield']"
      ]
     },
     "execution_count": 2,
     "metadata": {},
     "output_type": "execute_result"
    }
   ],
   "source": [
    "import keyword\n",
    "\n",
    "keyword.kwlist"
   ]
  },
  {
   "cell_type": "markdown",
   "metadata": {},
   "source": [
    "### 4. Identation and Comment"
   ]
  },
  {
   "cell_type": "markdown",
   "metadata": {},
   "source": [
    "Before jumping to identation and comment, let's see how an statement is extended in Python. For extending the statement, the slash, parenthesis, curly and square bracs can be used as per the usecase.\n",
    "\n",
    "Below is the example."
   ]
  },
  {
   "cell_type": "code",
   "execution_count": 14,
   "metadata": {
    "scrolled": true
   },
   "outputs": [],
   "source": [
    "total1 = (1 + 2 + 3\n",
    "        + 4 + 5)\n",
    "\n",
    "total2 = 1 + 2 + 3 \\\n",
    "        + 4 + 5\n",
    "\n",
    "total3 = [1 + 2 + 3\n",
    "         + 4 + 5] # This defines the list\n",
    "\n",
    "total4 = {1 + 2 + 3\n",
    "         + 4 + 5} # This defines the set"
   ]
  },
  {
   "cell_type": "markdown",
   "metadata": {},
   "source": [
    "Python doesn't use curly bracs to define block, instead it uses identation for it. Indentation space is equal to 1 tab space, the python IDE will automatically set to appropriate place. See the below example. If you are not familier with it, don't worry by the time you will be familier."
   ]
  },
  {
   "cell_type": "code",
   "execution_count": 15,
   "metadata": {},
   "outputs": [
    {
     "name": "stdout",
     "output_type": "stream",
     "text": [
      "Yes\n",
      "Yes\n"
     ]
    }
   ],
   "source": [
    "for i in range(10):\n",
    "    \n",
    "    # Indentation 1\n",
    "    if i % 5 == 0:\n",
    "        #Indentation 2\n",
    "        print('Yes')"
   ]
  },
  {
   "cell_type": "markdown",
   "metadata": {},
   "source": [
    "Single line comments in python are declared by '#' and multi line comments start and end with \"\"\". You can have multiple single line comments by selecting and pressing ctrl+/ or command+/"
   ]
  }
 ],
 "metadata": {
  "colab": {
   "collapsed_sections": [
    "-WvGy_yEMZqy",
    "VoF-mwOrNd47",
    "TF5JGYWwOCZ9",
    "0Z9JChvaPpsm"
   ],
   "provenance": []
  },
  "kernelspec": {
   "display_name": "Python 3 (ipykernel)",
   "language": "python",
   "name": "python3"
  },
  "language_info": {
   "codemirror_mode": {
    "name": "ipython",
    "version": 3
   },
   "file_extension": ".py",
   "mimetype": "text/x-python",
   "name": "python",
   "nbconvert_exporter": "python",
   "pygments_lexer": "ipython3",
   "version": "3.11.5"
  }
 },
 "nbformat": 4,
 "nbformat_minor": 1
}

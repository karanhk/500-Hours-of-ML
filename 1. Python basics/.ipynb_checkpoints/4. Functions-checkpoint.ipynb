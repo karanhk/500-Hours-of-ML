{
 "cells": [
  {
   "cell_type": "markdown",
   "id": "d8a6bdd1",
   "metadata": {},
   "source": [
    "<font color='red'><h1> Workbook for Function </h1></font>"
   ]
  },
  {
   "cell_type": "markdown",
   "id": "df2c5820",
   "metadata": {},
   "source": [
    "## Table of Contents : \n",
    "\n",
    "1. Introduction\n",
    "2. *args and **kwargs"
   ]
  },
  {
   "cell_type": "markdown",
   "id": "0a63e69d",
   "metadata": {},
   "source": [
    "### 1. Introduction"
   ]
  },
  {
   "cell_type": "markdown",
   "id": "583bb392",
   "metadata": {},
   "source": [
    "Functions in python works same as other languages. Python has advanced features and more freedom for function. The function is defined by 'def' keyword, you don't need to mention the return type. See the code below."
   ]
  },
  {
   "cell_type": "code",
   "execution_count": 1,
   "id": "af186d26",
   "metadata": {},
   "outputs": [],
   "source": [
    "def add(x,y):\n",
    "    print(x, y)\n",
    "    return x + y"
   ]
  },
  {
   "cell_type": "markdown",
   "id": "fa6bd4ab",
   "metadata": {},
   "source": [
    "Observe return type is not explicitly mentioned, the argument type is also not. The function will take first argument as 'x' and second as 'y'."
   ]
  },
  {
   "cell_type": "markdown",
   "id": "7a6e696f",
   "metadata": {},
   "source": [
    "You can mention return type and argument type in function but it is not mandatory."
   ]
  },
  {
   "cell_type": "code",
   "execution_count": 2,
   "id": "033395ca",
   "metadata": {},
   "outputs": [],
   "source": [
    "def sub(x: int, y: int) -> int:\n",
    "    return x - y"
   ]
  },
  {
   "cell_type": "markdown",
   "id": "e01f5555",
   "metadata": {},
   "source": [
    "We can call function by the following code."
   ]
  },
  {
   "cell_type": "code",
   "execution_count": 4,
   "id": "24436afe",
   "metadata": {},
   "outputs": [
    {
     "name": "stdout",
     "output_type": "stream",
     "text": [
      "2 3\n",
      "Karan Hadiyal\n"
     ]
    },
    {
     "data": {
      "text/plain": [
       "'KaranHadiyal'"
      ]
     },
     "execution_count": 4,
     "metadata": {},
     "output_type": "execute_result"
    }
   ],
   "source": [
    "add(2,3)\n",
    "add('Karan','Hadiyal')"
   ]
  },
  {
   "cell_type": "markdown",
   "id": "7e73032d",
   "metadata": {},
   "source": [
    "In function we can return more than one value. See the code."
   ]
  },
  {
   "cell_type": "code",
   "execution_count": 5,
   "id": "05c0b64e",
   "metadata": {},
   "outputs": [],
   "source": [
    "def swap(x,y):\n",
    "    return y,x"
   ]
  },
  {
   "cell_type": "code",
   "execution_count": 7,
   "id": "bfb77789",
   "metadata": {},
   "outputs": [
    {
     "name": "stdout",
     "output_type": "stream",
     "text": [
      "2 1\n"
     ]
    }
   ],
   "source": [
    "x = 1; y = 2\n",
    "x,y = swap(x,y)\n",
    "print(x,y)"
   ]
  },
  {
   "cell_type": "markdown",
   "id": "985fd9b9",
   "metadata": {},
   "source": [
    "You can use default value as argument see the code below. The default argument should be at last."
   ]
  },
  {
   "cell_type": "code",
   "execution_count": 13,
   "id": "2cd0a025",
   "metadata": {},
   "outputs": [],
   "source": [
    "def myInfo(age,name = 'Karan'):\n",
    "    print(name,age)"
   ]
  },
  {
   "cell_type": "code",
   "execution_count": 15,
   "id": "78cbb5dd",
   "metadata": {},
   "outputs": [
    {
     "name": "stdout",
     "output_type": "stream",
     "text": [
      "Karan 20\n",
      "Hadiyal 22\n"
     ]
    }
   ],
   "source": [
    "myInfo(20)\n",
    "myInfo(22,'Hadiyal')"
   ]
  },
  {
   "cell_type": "markdown",
   "id": "8b01d1df",
   "metadata": {},
   "source": [
    "You can think of default argument as variable inside function. If we want to change the value we can pass different value."
   ]
  },
  {
   "cell_type": "markdown",
   "id": "7de898a1",
   "metadata": {},
   "source": [
    "## 2. *args and **kwargs"
   ]
  },
  {
   "cell_type": "markdown",
   "id": "d8f4b792",
   "metadata": {},
   "source": [
    "If we don't know the number of arguments to pass to function. We can add '*' before the variable passed to function. This variable will be a tuple. See the code below."
   ]
  },
  {
   "cell_type": "code",
   "execution_count": 10,
   "id": "7aa4410b",
   "metadata": {},
   "outputs": [],
   "source": [
    "def listInfo(*args):\n",
    "    for arg in args:\n",
    "        print(arg,end=' ')"
   ]
  },
  {
   "cell_type": "code",
   "execution_count": 11,
   "id": "d7c4a7a7",
   "metadata": {},
   "outputs": [
    {
     "name": "stdout",
     "output_type": "stream",
     "text": [
      "Karan Hadiyal 20 True "
     ]
    }
   ],
   "source": [
    "listInfo('Karan', 'Hadiyal', 20, True)"
   ]
  },
  {
   "cell_type": "markdown",
   "id": "6d030206",
   "metadata": {},
   "source": [
    "To pass arguments in key-value pair, two astreiks '**' are put before the variable name. This variable will be a dictionary. See the code below."
   ]
  },
  {
   "cell_type": "code",
   "execution_count": 24,
   "id": "06a4f77b",
   "metadata": {},
   "outputs": [],
   "source": [
    "def listInfo(**kwargs):\n",
    "    for key in kwargs.keys():\n",
    "        print(key, kwargs[key])"
   ]
  },
  {
   "cell_type": "code",
   "execution_count": 25,
   "id": "caca8a18",
   "metadata": {},
   "outputs": [
    {
     "name": "stdout",
     "output_type": "stream",
     "text": [
      "name Karan\n",
      "age 20\n"
     ]
    }
   ],
   "source": [
    "listInfo(name='Karan',age=20)"
   ]
  }
 ],
 "metadata": {
  "kernelspec": {
   "display_name": "Python 3 (ipykernel)",
   "language": "python",
   "name": "python3"
  },
  "language_info": {
   "codemirror_mode": {
    "name": "ipython",
    "version": 3
   },
   "file_extension": ".py",
   "mimetype": "text/x-python",
   "name": "python",
   "nbconvert_exporter": "python",
   "pygments_lexer": "ipython3",
   "version": "3.11.5"
  }
 },
 "nbformat": 4,
 "nbformat_minor": 5
}
